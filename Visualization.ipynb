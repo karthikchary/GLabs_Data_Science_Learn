{
  "nbformat": 4,
  "nbformat_minor": 0,
  "metadata": {
    "kernelspec": {
      "display_name": "Python 3",
      "language": "python",
      "name": "python3"
    },
    "language_info": {
      "codemirror_mode": {
        "name": "ipython",
        "version": 3
      },
      "file_extension": ".py",
      "mimetype": "text/x-python",
      "name": "python",
      "nbconvert_exporter": "python",
      "pygments_lexer": "ipython3",
      "version": "3.7.6"
    },
    "colab": {
      "name": "Visualization.ipynb",
      "provenance": [],
      "toc_visible": true,
      "include_colab_link": true
    }
  },
  "cells": [
    {
      "cell_type": "markdown",
      "metadata": {
        "id": "view-in-github",
        "colab_type": "text"
      },
      "source": [
        "<a href=\"https://colab.research.google.com/github/karthikchary/GLabs_Data_Science_Learn/blob/master/Visualization.ipynb\" target=\"_parent\"><img src=\"https://colab.research.google.com/assets/colab-badge.svg\" alt=\"Open In Colab\"/></a>"
      ]
    },
    {
      "cell_type": "markdown",
      "metadata": {
        "id": "juxbATkOU1RA",
        "colab_type": "text"
      },
      "source": [
        "\n",
        "\n",
        "## Problem Statement\n",
        "\n",
        "\n",
        "You have been hired by the stakeholders of Dream Housing Finance company to help them get visual insights on the company's operations. \n",
        "\n",
        "Using the data visualization techniques you learned, you have to help visualise the data and see if you can help the stakeholders arrive at some inference based on the visual plots.\n",
        "\n",
        "\n",
        "## About the Dataset\n",
        "\n",
        "\n",
        "The snapshot of the data, you will be working on:\n",
        "\n",
        "\n",
        "![loan_data](https://storage.googleapis.com/ga-commit-live-prod-live-data/account/b92/11111111-1111-1111-1111-000000000000/b981/855877f6-eb24-4ccd-84b9-fdacd04d8605/file.PNG)\n",
        "\n",
        "\n",
        "The dataset has details of 614 customers with the following 13 features\n",
        "\n",
        "|Feature|Description|\n",
        "|-----|-----|\n",
        "|Loan_ID|Unique Loan ID|\n",
        "|Gender|Male/Female|\n",
        "|Married|Applicant Married (Y/N)|\n",
        "|Dependents|Number of dependents|\n",
        "|Education|Graduate/Under Graduate|\n",
        "|Self_Employed|Self employed (Y/N)|\n",
        "|ApplicantIncome|Income of the applicant|\n",
        "|CoapplicantIncome|Income of the co applicant|\n",
        "|LoanAmount|Loan amount in thousands|\n",
        "|Loan_Amount_Term|Term of loan in months|\n",
        "|Credit_History|credit hostory meets guidelines}|\n",
        "|Property_Area| Urban/Semi-Urban/Rural|\n",
        "|Loan_Status|Loan approved (Y/N)|\n",
        "\n",
        "## Why solve this project?\n",
        "\n",
        "After completing this project, you will have a better understanding of data visualization techniques. In this project, you will be applying the following concepts:\n",
        "\n",
        "- Bar plotting   \n",
        "- Scatter plotting \n",
        "- Kernel Density plotting\n",
        "- Subplot operations\n",
        "- Axes modifications\n",
        "\n",
        "\n",
        "\n"
      ]
    },
    {
      "cell_type": "markdown",
      "metadata": {
        "id": "vrfCnHinU1RJ",
        "colab_type": "text"
      },
      "source": [
        "# Loan Status\n",
        "Let's start with the simple task of visualizing the company's record with respect to loan approvals.\n",
        "\n",
        "* The path to the dataset has been stored in a variable `path`\n",
        "\n",
        "* Load the dataframe using `pd.read_csv()` and store the dataframe in a variable called `data`.\n",
        "\n",
        "\n",
        "* Save the value counts of `Loan_Status` in a variable called `loan_status` using `value_counts()`\n",
        "\n",
        "\n",
        "* Plot a bar graph of `loan_status`\n",
        "\n",
        "\n",
        "#### Things to ponder upon: \n",
        "      - Company has more 'loan approvals' or 'loan disapprovals'?\n",
        "      - Can one of the company's health factors be its loan status distribution?"
      ]
    },
    {
      "cell_type": "code",
      "metadata": {
        "id": "PDlL6bXtU1RM",
        "colab_type": "code",
        "colab": {}
      },
      "source": [
        "#Importing header files\n",
        "import os\n",
        "import pandas as pd\n",
        "import numpy as np\n",
        "import matplotlib.pyplot as plt"
      ],
      "execution_count": 1,
      "outputs": []
    },
    {
      "cell_type": "code",
      "metadata": {
        "id": "5aPoPV4dU1RZ",
        "colab_type": "code",
        "colab": {}
      },
      "source": [
        "data = pd.read_csv('data.csv')\n"
      ],
      "execution_count": 2,
      "outputs": []
    },
    {
      "cell_type": "code",
      "metadata": {
        "id": "024zNPkaVV_4",
        "colab_type": "code",
        "colab": {
          "base_uri": "https://localhost:8080/",
          "height": 241
        },
        "outputId": "8c060152-fd98-49a3-d918-1c52b7004759"
      },
      "source": [
        "data.head()"
      ],
      "execution_count": 4,
      "outputs": [
        {
          "output_type": "execute_result",
          "data": {
            "text/html": [
              "<div>\n",
              "<style scoped>\n",
              "    .dataframe tbody tr th:only-of-type {\n",
              "        vertical-align: middle;\n",
              "    }\n",
              "\n",
              "    .dataframe tbody tr th {\n",
              "        vertical-align: top;\n",
              "    }\n",
              "\n",
              "    .dataframe thead th {\n",
              "        text-align: right;\n",
              "    }\n",
              "</style>\n",
              "<table border=\"1\" class=\"dataframe\">\n",
              "  <thead>\n",
              "    <tr style=\"text-align: right;\">\n",
              "      <th></th>\n",
              "      <th>Loan_ID</th>\n",
              "      <th>Gender</th>\n",
              "      <th>Married</th>\n",
              "      <th>Dependents</th>\n",
              "      <th>Education</th>\n",
              "      <th>Self_Employed</th>\n",
              "      <th>ApplicantIncome</th>\n",
              "      <th>CoapplicantIncome</th>\n",
              "      <th>LoanAmount</th>\n",
              "      <th>Loan_Amount_Term</th>\n",
              "      <th>Credit_History</th>\n",
              "      <th>Property_Area</th>\n",
              "      <th>Loan_Status</th>\n",
              "    </tr>\n",
              "  </thead>\n",
              "  <tbody>\n",
              "    <tr>\n",
              "      <th>0</th>\n",
              "      <td>LP001002</td>\n",
              "      <td>Male</td>\n",
              "      <td>No</td>\n",
              "      <td>0</td>\n",
              "      <td>Graduate</td>\n",
              "      <td>No</td>\n",
              "      <td>5849</td>\n",
              "      <td>0.0</td>\n",
              "      <td>NaN</td>\n",
              "      <td>360.0</td>\n",
              "      <td>1.0</td>\n",
              "      <td>Urban</td>\n",
              "      <td>Y</td>\n",
              "    </tr>\n",
              "    <tr>\n",
              "      <th>1</th>\n",
              "      <td>LP001003</td>\n",
              "      <td>Male</td>\n",
              "      <td>Yes</td>\n",
              "      <td>1</td>\n",
              "      <td>Graduate</td>\n",
              "      <td>No</td>\n",
              "      <td>4583</td>\n",
              "      <td>1508.0</td>\n",
              "      <td>128.0</td>\n",
              "      <td>360.0</td>\n",
              "      <td>1.0</td>\n",
              "      <td>Rural</td>\n",
              "      <td>N</td>\n",
              "    </tr>\n",
              "    <tr>\n",
              "      <th>2</th>\n",
              "      <td>LP001005</td>\n",
              "      <td>Male</td>\n",
              "      <td>Yes</td>\n",
              "      <td>0</td>\n",
              "      <td>Graduate</td>\n",
              "      <td>Yes</td>\n",
              "      <td>3000</td>\n",
              "      <td>0.0</td>\n",
              "      <td>66.0</td>\n",
              "      <td>360.0</td>\n",
              "      <td>1.0</td>\n",
              "      <td>Urban</td>\n",
              "      <td>Y</td>\n",
              "    </tr>\n",
              "    <tr>\n",
              "      <th>3</th>\n",
              "      <td>LP001006</td>\n",
              "      <td>Male</td>\n",
              "      <td>Yes</td>\n",
              "      <td>0</td>\n",
              "      <td>Not Graduate</td>\n",
              "      <td>No</td>\n",
              "      <td>2583</td>\n",
              "      <td>2358.0</td>\n",
              "      <td>120.0</td>\n",
              "      <td>360.0</td>\n",
              "      <td>1.0</td>\n",
              "      <td>Urban</td>\n",
              "      <td>Y</td>\n",
              "    </tr>\n",
              "    <tr>\n",
              "      <th>4</th>\n",
              "      <td>LP001008</td>\n",
              "      <td>Male</td>\n",
              "      <td>No</td>\n",
              "      <td>0</td>\n",
              "      <td>Graduate</td>\n",
              "      <td>No</td>\n",
              "      <td>6000</td>\n",
              "      <td>0.0</td>\n",
              "      <td>141.0</td>\n",
              "      <td>360.0</td>\n",
              "      <td>1.0</td>\n",
              "      <td>Urban</td>\n",
              "      <td>Y</td>\n",
              "    </tr>\n",
              "  </tbody>\n",
              "</table>\n",
              "</div>"
            ],
            "text/plain": [
              "    Loan_ID Gender Married  ... Credit_History Property_Area Loan_Status\n",
              "0  LP001002   Male      No  ...            1.0         Urban           Y\n",
              "1  LP001003   Male     Yes  ...            1.0         Rural           N\n",
              "2  LP001005   Male     Yes  ...            1.0         Urban           Y\n",
              "3  LP001006   Male     Yes  ...            1.0         Urban           Y\n",
              "4  LP001008   Male      No  ...            1.0         Urban           Y\n",
              "\n",
              "[5 rows x 13 columns]"
            ]
          },
          "metadata": {
            "tags": []
          },
          "execution_count": 4
        }
      ]
    },
    {
      "cell_type": "code",
      "metadata": {
        "id": "BEqo8r08VsVh",
        "colab_type": "code",
        "colab": {
          "base_uri": "https://localhost:8080/",
          "height": 357
        },
        "outputId": "3ef488dd-80c0-4168-cd32-5c0c8303fb81"
      },
      "source": [
        "data.info()"
      ],
      "execution_count": 5,
      "outputs": [
        {
          "output_type": "stream",
          "text": [
            "<class 'pandas.core.frame.DataFrame'>\n",
            "RangeIndex: 600 entries, 0 to 599\n",
            "Data columns (total 13 columns):\n",
            " #   Column             Non-Null Count  Dtype  \n",
            "---  ------             --------------  -----  \n",
            " 0   Loan_ID            600 non-null    object \n",
            " 1   Gender             589 non-null    object \n",
            " 2   Married            597 non-null    object \n",
            " 3   Dependents         585 non-null    object \n",
            " 4   Education          600 non-null    object \n",
            " 5   Self_Employed      570 non-null    object \n",
            " 6   ApplicantIncome    600 non-null    int64  \n",
            " 7   CoapplicantIncome  600 non-null    float64\n",
            " 8   LoanAmount         578 non-null    float64\n",
            " 9   Loan_Amount_Term   586 non-null    float64\n",
            " 10  Credit_History     551 non-null    float64\n",
            " 11  Property_Area      600 non-null    object \n",
            " 12  Loan_Status        600 non-null    object \n",
            "dtypes: float64(4), int64(1), object(8)\n",
            "memory usage: 61.1+ KB\n"
          ],
          "name": "stdout"
        }
      ]
    },
    {
      "cell_type": "code",
      "metadata": {
        "id": "sYLS-nhZVyOu",
        "colab_type": "code",
        "colab": {
          "base_uri": "https://localhost:8080/",
          "height": 297
        },
        "outputId": "5eba922d-ab18-4fa6-ceff-3515a23501a2"
      },
      "source": [
        "data.describe()"
      ],
      "execution_count": 6,
      "outputs": [
        {
          "output_type": "execute_result",
          "data": {
            "text/html": [
              "<div>\n",
              "<style scoped>\n",
              "    .dataframe tbody tr th:only-of-type {\n",
              "        vertical-align: middle;\n",
              "    }\n",
              "\n",
              "    .dataframe tbody tr th {\n",
              "        vertical-align: top;\n",
              "    }\n",
              "\n",
              "    .dataframe thead th {\n",
              "        text-align: right;\n",
              "    }\n",
              "</style>\n",
              "<table border=\"1\" class=\"dataframe\">\n",
              "  <thead>\n",
              "    <tr style=\"text-align: right;\">\n",
              "      <th></th>\n",
              "      <th>ApplicantIncome</th>\n",
              "      <th>CoapplicantIncome</th>\n",
              "      <th>LoanAmount</th>\n",
              "      <th>Loan_Amount_Term</th>\n",
              "      <th>Credit_History</th>\n",
              "    </tr>\n",
              "  </thead>\n",
              "  <tbody>\n",
              "    <tr>\n",
              "      <th>count</th>\n",
              "      <td>600.000000</td>\n",
              "      <td>600.000000</td>\n",
              "      <td>578.000000</td>\n",
              "      <td>586.000000</td>\n",
              "      <td>551.000000</td>\n",
              "    </tr>\n",
              "    <tr>\n",
              "      <th>mean</th>\n",
              "      <td>4870.668333</td>\n",
              "      <td>1421.538200</td>\n",
              "      <td>141.865052</td>\n",
              "      <td>342.593857</td>\n",
              "      <td>0.843920</td>\n",
              "    </tr>\n",
              "    <tr>\n",
              "      <th>std</th>\n",
              "      <td>3380.099718</td>\n",
              "      <td>1684.082008</td>\n",
              "      <td>76.311156</td>\n",
              "      <td>64.797084</td>\n",
              "      <td>0.363261</td>\n",
              "    </tr>\n",
              "    <tr>\n",
              "      <th>min</th>\n",
              "      <td>150.000000</td>\n",
              "      <td>0.000000</td>\n",
              "      <td>9.000000</td>\n",
              "      <td>12.000000</td>\n",
              "      <td>0.000000</td>\n",
              "    </tr>\n",
              "    <tr>\n",
              "      <th>25%</th>\n",
              "      <td>2880.500000</td>\n",
              "      <td>0.000000</td>\n",
              "      <td>100.000000</td>\n",
              "      <td>360.000000</td>\n",
              "      <td>1.000000</td>\n",
              "    </tr>\n",
              "    <tr>\n",
              "      <th>50%</th>\n",
              "      <td>3768.500000</td>\n",
              "      <td>1188.500000</td>\n",
              "      <td>126.500000</td>\n",
              "      <td>360.000000</td>\n",
              "      <td>1.000000</td>\n",
              "    </tr>\n",
              "    <tr>\n",
              "      <th>75%</th>\n",
              "      <td>5704.250000</td>\n",
              "      <td>2253.250000</td>\n",
              "      <td>163.500000</td>\n",
              "      <td>360.000000</td>\n",
              "      <td>1.000000</td>\n",
              "    </tr>\n",
              "    <tr>\n",
              "      <th>max</th>\n",
              "      <td>20833.000000</td>\n",
              "      <td>8980.000000</td>\n",
              "      <td>650.000000</td>\n",
              "      <td>480.000000</td>\n",
              "      <td>1.000000</td>\n",
              "    </tr>\n",
              "  </tbody>\n",
              "</table>\n",
              "</div>"
            ],
            "text/plain": [
              "       ApplicantIncome  CoapplicantIncome  ...  Loan_Amount_Term  Credit_History\n",
              "count       600.000000         600.000000  ...        586.000000      551.000000\n",
              "mean       4870.668333        1421.538200  ...        342.593857        0.843920\n",
              "std        3380.099718        1684.082008  ...         64.797084        0.363261\n",
              "min         150.000000           0.000000  ...         12.000000        0.000000\n",
              "25%        2880.500000           0.000000  ...        360.000000        1.000000\n",
              "50%        3768.500000        1188.500000  ...        360.000000        1.000000\n",
              "75%        5704.250000        2253.250000  ...        360.000000        1.000000\n",
              "max       20833.000000        8980.000000  ...        480.000000        1.000000\n",
              "\n",
              "[8 rows x 5 columns]"
            ]
          },
          "metadata": {
            "tags": []
          },
          "execution_count": 6
        }
      ]
    },
    {
      "cell_type": "code",
      "metadata": {
        "id": "C2yvScl9V6Jr",
        "colab_type": "code",
        "colab": {
          "base_uri": "https://localhost:8080/",
          "height": 68
        },
        "outputId": "479fe162-0895-4051-c062-8972713d2b80"
      },
      "source": [
        "gender = data['Gender'].value_counts()\n",
        "print(gender)"
      ],
      "execution_count": 16,
      "outputs": [
        {
          "output_type": "stream",
          "text": [
            "Male      478\n",
            "Female    111\n",
            "Name: Gender, dtype: int64\n"
          ],
          "name": "stdout"
        }
      ]
    },
    {
      "cell_type": "code",
      "metadata": {
        "id": "DDr1pnF9XDMf",
        "colab_type": "code",
        "colab": {
          "base_uri": "https://localhost:8080/",
          "height": 162
        },
        "outputId": "acd8bd1d-16ce-4ebb-836c-3d27e4e8140d"
      },
      "source": [
        "data.groupby(['Gender']).count()"
      ],
      "execution_count": 14,
      "outputs": [
        {
          "output_type": "execute_result",
          "data": {
            "text/html": [
              "<div>\n",
              "<style scoped>\n",
              "    .dataframe tbody tr th:only-of-type {\n",
              "        vertical-align: middle;\n",
              "    }\n",
              "\n",
              "    .dataframe tbody tr th {\n",
              "        vertical-align: top;\n",
              "    }\n",
              "\n",
              "    .dataframe thead th {\n",
              "        text-align: right;\n",
              "    }\n",
              "</style>\n",
              "<table border=\"1\" class=\"dataframe\">\n",
              "  <thead>\n",
              "    <tr style=\"text-align: right;\">\n",
              "      <th></th>\n",
              "      <th>Loan_ID</th>\n",
              "      <th>Married</th>\n",
              "      <th>Dependents</th>\n",
              "      <th>Education</th>\n",
              "      <th>Self_Employed</th>\n",
              "      <th>ApplicantIncome</th>\n",
              "      <th>CoapplicantIncome</th>\n",
              "      <th>LoanAmount</th>\n",
              "      <th>Loan_Amount_Term</th>\n",
              "      <th>Credit_History</th>\n",
              "      <th>Property_Area</th>\n",
              "      <th>Loan_Status</th>\n",
              "    </tr>\n",
              "    <tr>\n",
              "      <th>Gender</th>\n",
              "      <th></th>\n",
              "      <th></th>\n",
              "      <th></th>\n",
              "      <th></th>\n",
              "      <th></th>\n",
              "      <th></th>\n",
              "      <th></th>\n",
              "      <th></th>\n",
              "      <th></th>\n",
              "      <th></th>\n",
              "      <th></th>\n",
              "      <th></th>\n",
              "    </tr>\n",
              "  </thead>\n",
              "  <tbody>\n",
              "    <tr>\n",
              "      <th>Female</th>\n",
              "      <td>111</td>\n",
              "      <td>110</td>\n",
              "      <td>108</td>\n",
              "      <td>111</td>\n",
              "      <td>104</td>\n",
              "      <td>111</td>\n",
              "      <td>111</td>\n",
              "      <td>108</td>\n",
              "      <td>108</td>\n",
              "      <td>101</td>\n",
              "      <td>111</td>\n",
              "      <td>111</td>\n",
              "    </tr>\n",
              "    <tr>\n",
              "      <th>Male</th>\n",
              "      <td>478</td>\n",
              "      <td>476</td>\n",
              "      <td>466</td>\n",
              "      <td>478</td>\n",
              "      <td>455</td>\n",
              "      <td>478</td>\n",
              "      <td>478</td>\n",
              "      <td>459</td>\n",
              "      <td>467</td>\n",
              "      <td>440</td>\n",
              "      <td>478</td>\n",
              "      <td>478</td>\n",
              "    </tr>\n",
              "  </tbody>\n",
              "</table>\n",
              "</div>"
            ],
            "text/plain": [
              "        Loan_ID  Married  ...  Property_Area  Loan_Status\n",
              "Gender                    ...                            \n",
              "Female      111      110  ...            111          111\n",
              "Male        478      476  ...            478          478\n",
              "\n",
              "[2 rows x 12 columns]"
            ]
          },
          "metadata": {
            "tags": []
          },
          "execution_count": 14
        }
      ]
    },
    {
      "cell_type": "code",
      "metadata": {
        "id": "6NFR0Q-iXwGq",
        "colab_type": "code",
        "colab": {
          "base_uri": "https://localhost:8080/",
          "height": 68
        },
        "outputId": "e93c532b-61c1-4e3d-e434-1c1715e30afb"
      },
      "source": [
        "loan_status = data['Loan_Status'].value_counts()\n",
        "loan_status"
      ],
      "execution_count": 17,
      "outputs": [
        {
          "output_type": "execute_result",
          "data": {
            "text/plain": [
              "Y    415\n",
              "N    185\n",
              "Name: Loan_Status, dtype: int64"
            ]
          },
          "metadata": {
            "tags": []
          },
          "execution_count": 17
        }
      ]
    },
    {
      "cell_type": "code",
      "metadata": {
        "id": "4XQgQUx1Yg41",
        "colab_type": "code",
        "colab": {
          "base_uri": "https://localhost:8080/",
          "height": 85
        },
        "outputId": "b6660eb2-00e5-4b22-ded7-264dd67d4462"
      },
      "source": [
        "data[['Gender','Loan_Status','Education']].count()"
      ],
      "execution_count": 23,
      "outputs": [
        {
          "output_type": "execute_result",
          "data": {
            "text/plain": [
              "Gender         589\n",
              "Loan_Status    600\n",
              "Education      600\n",
              "dtype: int64"
            ]
          },
          "metadata": {
            "tags": []
          },
          "execution_count": 23
        }
      ]
    },
    {
      "cell_type": "code",
      "metadata": {
        "id": "VsUVSxCAZpQJ",
        "colab_type": "code",
        "colab": {
          "base_uri": "https://localhost:8080/",
          "height": 255
        },
        "outputId": "69611073-1e66-4969-f255-946343f385b7"
      },
      "source": [
        "data.isnull().sum()"
      ],
      "execution_count": 24,
      "outputs": [
        {
          "output_type": "execute_result",
          "data": {
            "text/plain": [
              "Loan_ID               0\n",
              "Gender               11\n",
              "Married               3\n",
              "Dependents           15\n",
              "Education             0\n",
              "Self_Employed        30\n",
              "ApplicantIncome       0\n",
              "CoapplicantIncome     0\n",
              "LoanAmount           22\n",
              "Loan_Amount_Term     14\n",
              "Credit_History       49\n",
              "Property_Area         0\n",
              "Loan_Status           0\n",
              "dtype: int64"
            ]
          },
          "metadata": {
            "tags": []
          },
          "execution_count": 24
        }
      ]
    },
    {
      "cell_type": "code",
      "metadata": {
        "id": "b6L5GSO7ekEH",
        "colab_type": "code",
        "colab": {
          "base_uri": "https://localhost:8080/",
          "height": 221
        },
        "outputId": "f5182dc5-8edc-4e5e-fa5d-74dccd37ede7"
      },
      "source": [
        "data['Gender']"
      ],
      "execution_count": 33,
      "outputs": [
        {
          "output_type": "execute_result",
          "data": {
            "text/plain": [
              "0        Male\n",
              "1        Male\n",
              "2        Male\n",
              "3        Male\n",
              "4        Male\n",
              "        ...  \n",
              "595    Female\n",
              "596      Male\n",
              "597      Male\n",
              "598      Male\n",
              "599    Female\n",
              "Name: Gender, Length: 600, dtype: object"
            ]
          },
          "metadata": {
            "tags": []
          },
          "execution_count": 33
        }
      ]
    },
    {
      "cell_type": "code",
      "metadata": {
        "id": "hwNGKjFFf_PR",
        "colab_type": "code",
        "colab": {
          "base_uri": "https://localhost:8080/",
          "height": 678
        },
        "outputId": "f37fcc0f-c633-43cd-f40c-6b84ea91f463"
      },
      "source": [
        "ax = gender.plot(kind='bar', title =\"Gender\",figsize=(15,10),legend=True, fontsize=12)\n",
        "ax.set_xlabel(\"Gender\",fontsize=12)\n",
        "ax.set_ylabel(\"Count\",fontsize=12)"
      ],
      "execution_count": 44,
      "outputs": [
        {
          "output_type": "execute_result",
          "data": {
            "text/plain": [
              "Text(0, 0.5, 'Count')"
            ]
          },
          "metadata": {
            "tags": []
          },
          "execution_count": 44
        },
        {
          "output_type": "display_data",
          "data": {
            "image/png": "[encoded data removed]",
            "text/plain": [
              "<Figure size 1080x720 with 1 Axes>"
            ]
          },
          "metadata": {
            "tags": []
          }
        }
      ]
    },
    {
      "cell_type": "code",
      "metadata": {
        "id": "08zYWvhZgaT-",
        "colab_type": "code",
        "colab": {}
      },
      "source": [
        "import seaborn as sns\n"
      ],
      "execution_count": 45,
      "outputs": []
    },
    {
      "cell_type": "code",
      "metadata": {
        "id": "AEAi4CgzYE-a",
        "colab_type": "code",
        "colab": {
          "base_uri": "https://localhost:8080/",
          "height": 271
        },
        "outputId": "7ad621fb-1973-4a8f-b77f-114faf7a8201"
      },
      "source": [
        "plt.bar(gender.index,gender.values)\n",
        "plt.show()"
      ],
      "execution_count": 43,
      "outputs": [
        {
          "output_type": "display_data",
          "data": {
            "image/png": "[encoded data removed]",
            "text/plain": [
              "<Figure size 432x288 with 1 Axes>"
            ]
          },
          "metadata": {
            "tags": []
          }
        }
      ]
    },
    {
      "cell_type": "code",
      "metadata": {
        "id": "52KkbJwwiXgh",
        "colab_type": "code",
        "colab": {}
      },
      "source": [
        "married = data['Married'].value_counts()"
      ],
      "execution_count": 46,
      "outputs": []
    },
    {
      "cell_type": "code",
      "metadata": {
        "id": "GJQje5VkilCm",
        "colab_type": "code",
        "colab": {
          "base_uri": "https://localhost:8080/",
          "height": 285
        },
        "outputId": "00b3e684-2a14-41a0-a120-71f284be0568"
      },
      "source": [
        "plt.bar(married.index,married.values)\n",
        "plt.xlabel('tele')\n",
        "plt.ylabel('abc')\n",
        "plt.show()"
      ],
      "execution_count": 51,
      "outputs": [
        {
          "output_type": "display_data",
          "data": {
            "image/png": "[encoded data removed]",
            "text/plain": [
              "<Figure size 432x288 with 1 Axes>"
            ]
          },
          "metadata": {
            "tags": []
          }
        }
      ]
    },
    {
      "cell_type": "code",
      "metadata": {
        "id": "DrOp1Idfitmx",
        "colab_type": "code",
        "colab": {
          "base_uri": "https://localhost:8080/",
          "height": 654
        },
        "outputId": "a4976826-2816-4f9c-9dc1-22826916a5b4"
      },
      "source": [
        "ax = married.plot(kind='bar', title =\"Gender\",figsize=(15,10),legend=True, fontsize=12)\n",
        "ax.set_xlabel(\"Gender\",fontsize=12)\n",
        "ax.set_ylabel(\"Count\",fontsize=12)"
      ],
      "execution_count": 48,
      "outputs": [
        {
          "output_type": "execute_result",
          "data": {
            "text/plain": [
              "Text(0, 0.5, 'Count')"
            ]
          },
          "metadata": {
            "tags": []
          },
          "execution_count": 48
        },
        {
          "output_type": "display_data",
          "data": {
            "image/png": "[encoded data removed]",
            "text/plain": [
              "<Figure size 1080x720 with 1 Axes>"
            ]
          },
          "metadata": {
            "tags": []
          }
        }
      ]
    },
    {
      "cell_type": "code",
      "metadata": {
        "id": "2tJ3Ie1YixZI",
        "colab_type": "code",
        "colab": {}
      },
      "source": [
        "property_area = data['Property_Area'].value_counts()"
      ],
      "execution_count": 49,
      "outputs": []
    },
    {
      "cell_type": "code",
      "metadata": {
        "id": "X_TdKsSUjAvH",
        "colab_type": "code",
        "colab": {
          "base_uri": "https://localhost:8080/",
          "height": 335
        },
        "outputId": "de35c46e-d899-4ea3-b4e7-52c428759b68"
      },
      "source": [
        "plt.bar(property_area.index,property_area.values)\n",
        "plt.xlabel('locality')\n",
        "plt.ylabel('units')\n",
        "plt.xticks(rotation = 90)\n",
        "plt.show()"
      ],
      "execution_count": 54,
      "outputs": [
        {
          "output_type": "display_data",
          "data": {
            "image/png": "[encoded data removed]",
            "text/plain": [
              "<Figure size 432x288 with 1 Axes>"
            ]
          },
          "metadata": {
            "tags": []
          }
        }
      ]
    },
    {
      "cell_type": "code",
      "metadata": {
        "id": "90fAOST5lVdS",
        "colab_type": "code",
        "colab": {
          "base_uri": "https://localhost:8080/",
          "height": 357
        },
        "outputId": "d8012a56-c530-412b-ca2a-a07ad11b6a4e"
      },
      "source": [
        "data.info()"
      ],
      "execution_count": 55,
      "outputs": [
        {
          "output_type": "stream",
          "text": [
            "<class 'pandas.core.frame.DataFrame'>\n",
            "RangeIndex: 600 entries, 0 to 599\n",
            "Data columns (total 13 columns):\n",
            " #   Column             Non-Null Count  Dtype  \n",
            "---  ------             --------------  -----  \n",
            " 0   Loan_ID            600 non-null    object \n",
            " 1   Gender             589 non-null    object \n",
            " 2   Married            597 non-null    object \n",
            " 3   Dependents         585 non-null    object \n",
            " 4   Education          600 non-null    object \n",
            " 5   Self_Employed      570 non-null    object \n",
            " 6   ApplicantIncome    600 non-null    int64  \n",
            " 7   CoapplicantIncome  600 non-null    float64\n",
            " 8   LoanAmount         578 non-null    float64\n",
            " 9   Loan_Amount_Term   586 non-null    float64\n",
            " 10  Credit_History     551 non-null    float64\n",
            " 11  Property_Area      600 non-null    object \n",
            " 12  Loan_Status        600 non-null    object \n",
            "dtypes: float64(4), int64(1), object(8)\n",
            "memory usage: 61.1+ KB\n"
          ],
          "name": "stdout"
        }
      ]
    },
    {
      "cell_type": "code",
      "metadata": {
        "id": "qxjNUbYnlZLd",
        "colab_type": "code",
        "colab": {
          "base_uri": "https://localhost:8080/",
          "height": 268
        },
        "outputId": "ce593e43-24ff-4245-d69d-bc00329bb390"
      },
      "source": [
        "plt.bar(loan_status.index,loan_status.values)\n",
        "plt.show()"
      ],
      "execution_count": 58,
      "outputs": [
        {
          "output_type": "display_data",
          "data": {
            "image/png": "[encoded data removed]",
            "text/plain": [
              "<Figure size 432x288 with 1 Axes>"
            ]
          },
          "metadata": {
            "tags": []
          }
        }
      ]
    },
    {
      "cell_type": "markdown",
      "metadata": {
        "id": "BRR9NgAIU1Rl",
        "colab_type": "text"
      },
      "source": [
        "# Everyone needs money \n",
        "The company provides financial assistance across the different regions of the country. One interesting statistic that stakeholders want to see is the loan approval distribution across the regions.\n",
        "\n",
        "## Instructions :\n",
        "\n",
        "* Group the `'data'` dataframe by `Property_Area` and `Loan_Status` and store it in a  variable called `'property_and_loan'`\n",
        "\n",
        "\n",
        "* Use the `.size()` method on `'property_and_loan'` and then use `.unstack()` and save it back to `'property_and_loan'` \n",
        "\n",
        "\n",
        "* Plot an unstacked bar plot of `property_and_loan` (It is similar to creating a stacked bar plot except change the parameter `'stacked'` to False)\n",
        "\n",
        "\n",
        "* Name the x-axis as `Property Area` \n",
        "\n",
        "\n",
        "* Name the y-axis as `Loan Status` \n",
        "\n",
        "\n",
        "* Rotate the labels of x-axis by 45<sup>o</sup> \n",
        "\n",
        "\n",
        "### Things to ponder upon \n",
        "\n",
        "    - Which is the region with the highest no. of loan approvals? lowest no. of loan approvals?\n",
        "\n",
        "    - Which is the region with the maximum difference between loan approvals and loan rejections?"
      ]
    },
    {
      "cell_type": "code",
      "metadata": {
        "id": "X5fbEPMxmzM3",
        "colab_type": "code",
        "colab": {
          "base_uri": "https://localhost:8080/",
          "height": 68
        },
        "outputId": "c223d3ba-98f2-4336-b4ce-06dd0678ab90"
      },
      "source": [
        "data[data['Property_Area']=='Rural']['Loan_Status'].value_counts()"
      ],
      "execution_count": 63,
      "outputs": [
        {
          "output_type": "execute_result",
          "data": {
            "text/plain": [
              "Y    109\n",
              "N     68\n",
              "Name: Loan_Status, dtype: int64"
            ]
          },
          "metadata": {
            "tags": []
          },
          "execution_count": 63
        }
      ]
    },
    {
      "cell_type": "code",
      "metadata": {
        "id": "fKkCpbqQnPOQ",
        "colab_type": "code",
        "colab": {
          "base_uri": "https://localhost:8080/",
          "height": 68
        },
        "outputId": "b9a440e2-f38c-437c-d9a5-a819e329d6bd"
      },
      "source": [
        "data[data['Property_Area']=='Urban']['Loan_Status'].value_counts()"
      ],
      "execution_count": 64,
      "outputs": [
        {
          "output_type": "execute_result",
          "data": {
            "text/plain": [
              "Y    131\n",
              "N     66\n",
              "Name: Loan_Status, dtype: int64"
            ]
          },
          "metadata": {
            "tags": []
          },
          "execution_count": 64
        }
      ]
    },
    {
      "cell_type": "code",
      "metadata": {
        "id": "vuqhjlnxU1Rn",
        "colab_type": "code",
        "colab": {}
      },
      "source": [
        "property_and_loan = data.groupby(['Property_Area','Loan_Status'])\n",
        "prop = property_and_loan.size().unstack()"
      ],
      "execution_count": 67,
      "outputs": []
    },
    {
      "cell_type": "code",
      "metadata": {
        "id": "uQU3ZNNomL1q",
        "colab_type": "code",
        "colab": {
          "base_uri": "https://localhost:8080/",
          "height": 268
        },
        "outputId": "a543b993-6ea9-4608-c438-24421fb9710f"
      },
      "source": [
        "plt.bar(prop.index,prop['Y'],alpha=0.4)\n",
        "plt.bar(prop.index,prop['N'])\n",
        "plt.show()"
      ],
      "execution_count": 68,
      "outputs": [
        {
          "output_type": "display_data",
          "data": {
            "image/png": "[encoded data removed]",
            "text/plain": [
              "<Figure size 432x288 with 1 Axes>"
            ]
          },
          "metadata": {
            "tags": []
          }
        }
      ]
    },
    {
      "cell_type": "markdown",
      "metadata": {
        "id": "ltgwFWPUU1Ry",
        "colab_type": "text"
      },
      "source": [
        "# Expensive Education\n",
        "Higher education has always been an expensive endeavour for people but it results in better career opportunities and stability in life. But does higher education result in a better guarantee in issuing loans? \n",
        "\n",
        "## Instructions :\n",
        "\n",
        "* Group the `'data'` dataframe by `Education` and `Loan_Status` and store it in a  variable called `'education_and_loan'`\n",
        "\n",
        "\n",
        "* Use the `.size()` method on `'education_and_loan'` and then use `.unstack()` and save it back to `'education_and_loan'` \n",
        "\n",
        "\n",
        "* Plot an stacked bar plot of `education_and_loan`\n",
        "\n",
        "\n",
        "* Name the x-axis as `Education Status` \n",
        "\n",
        "\n",
        "* Name the y-axis as `Loan Status` \n",
        "\n",
        "\n",
        "* Rotate the labels of x-axis by 45<sup>o</sup> \n",
        "\n",
        "#### Things to ponder upon\n",
        "    - Overall which group has asked for higher loan services irrespective of the approval? Graduate or Non-Graduate?\n",
        "    - Which group has had better approval to non-approval ratio? Graduate or Non-Graduate?\n",
        "    \n",
        "      Do the above conclusions make sense? Why?"
      ]
    },
    {
      "cell_type": "code",
      "metadata": {
        "id": "PauuC9umU1R0",
        "colab_type": "code",
        "colab": {}
      },
      "source": [
        "education_and_loan = data.groupby(['Education','Loan_Status'])\n",
        "education_and_loan = education_and_loan.size().unstack()"
      ],
      "execution_count": 69,
      "outputs": []
    },
    {
      "cell_type": "code",
      "metadata": {
        "id": "O4hUfoSt4MZm",
        "colab_type": "code",
        "colab": {
          "base_uri": "https://localhost:8080/",
          "height": 701
        },
        "outputId": "8684a551-be85-4503-e706-447fe0588524"
      },
      "source": [
        "ax = education_and_loan.plot(kind='bar', title =\"Education and loan\",figsize=(15,10),legend=True, fontsize=12)\n",
        "ax.set_xlabel(\"Education\",fontsize=12)\n",
        "ax.set_ylabel(\"Count\",fontsize=12)\n",
        "plt.xticks(rotation = 45)"
      ],
      "execution_count": 72,
      "outputs": [
        {
          "output_type": "execute_result",
          "data": {
            "text/plain": [
              "(array([0, 1]), <a list of 2 Text major ticklabel objects>)"
            ]
          },
          "metadata": {
            "tags": []
          },
          "execution_count": 72
        },
        {
          "output_type": "display_data",
          "data": {
            "image/png": "[encoded data removed]",
            "text/plain": [
              "<Figure size 1080x720 with 1 Axes>"
            ]
          },
          "metadata": {
            "tags": []
          }
        }
      ]
    },
    {
      "cell_type": "markdown",
      "metadata": {
        "id": "NbFjCVgPU1R7",
        "colab_type": "text"
      },
      "source": [
        "# Smarter and Richer? \n",
        "\n",
        "After seeing the loan status distribution, let's check whether being graduate or not also leads to different loan amount distribution by plotting an overlapping density plot of two values\n",
        "\n",
        "## Instructions :\n",
        "\n",
        "* Create a dataframe called 'graduate' which is a subset of `'data'` dataframe with the condition `\"data['Education'] == 'Graduate'\"`\n",
        "\n",
        "\n",
        "* Create a dataframe called 'not_graduate' which is a subset of `'data'` dataframe with the condition `\"data['Education'] == 'Not Graduate'\"`\n",
        "\n",
        "\n",
        "* Plot a density plot `LoanAmount` of `'graduate'` dataframe using `\"Series.plot()\"` and pass the parameter `kind`='density' and `label`='Graduate'\n",
        "\n",
        "\n",
        "* Do the same for `LoanAmount` of `'not_graduate'` dataframe but with `label`='Not Graduate'\n",
        "\n",
        "\n",
        "\n",
        "#### Things to ponder upon\n",
        "    - Do Graduate people get approved a higher amount than their Non Graduate counterparts?\n",
        "    \n",
        "    - What's the average amount of loan approved for Graduate? for Non-Graduate? Is there a huge difference between the two? \n",
        "\n",
        "\n"
      ]
    },
    {
      "cell_type": "code",
      "metadata": {
        "id": "W4wc0AwEU1R8",
        "colab_type": "code",
        "colab": {}
      },
      "source": [
        "graduate = data[data['Education'] == 'Graduate']"
      ],
      "execution_count": 78,
      "outputs": []
    },
    {
      "cell_type": "code",
      "metadata": {
        "id": "N8NlJykg5gRo",
        "colab_type": "code",
        "colab": {
          "base_uri": "https://localhost:8080/",
          "height": 439
        },
        "outputId": "c23fed38-2c62-4603-d3dc-aacb17c03a14"
      },
      "source": [
        "graduate"
      ],
      "execution_count": 79,
      "outputs": [
        {
          "output_type": "execute_result",
          "data": {
            "text/html": [
              "<div>\n",
              "<style scoped>\n",
              "    .dataframe tbody tr th:only-of-type {\n",
              "        vertical-align: middle;\n",
              "    }\n",
              "\n",
              "    .dataframe tbody tr th {\n",
              "        vertical-align: top;\n",
              "    }\n",
              "\n",
              "    .dataframe thead th {\n",
              "        text-align: right;\n",
              "    }\n",
              "</style>\n",
              "<table border=\"1\" class=\"dataframe\">\n",
              "  <thead>\n",
              "    <tr style=\"text-align: right;\">\n",
              "      <th></th>\n",
              "      <th>Loan_ID</th>\n",
              "      <th>Gender</th>\n",
              "      <th>Married</th>\n",
              "      <th>Dependents</th>\n",
              "      <th>Education</th>\n",
              "      <th>Self_Employed</th>\n",
              "      <th>ApplicantIncome</th>\n",
              "      <th>CoapplicantIncome</th>\n",
              "      <th>LoanAmount</th>\n",
              "      <th>Loan_Amount_Term</th>\n",
              "      <th>Credit_History</th>\n",
              "      <th>Property_Area</th>\n",
              "      <th>Loan_Status</th>\n",
              "    </tr>\n",
              "  </thead>\n",
              "  <tbody>\n",
              "    <tr>\n",
              "      <th>0</th>\n",
              "      <td>LP001002</td>\n",
              "      <td>Male</td>\n",
              "      <td>No</td>\n",
              "      <td>0</td>\n",
              "      <td>Graduate</td>\n",
              "      <td>No</td>\n",
              "      <td>5849</td>\n",
              "      <td>0.0</td>\n",
              "      <td>NaN</td>\n",
              "      <td>360.0</td>\n",
              "      <td>1.0</td>\n",
              "      <td>Urban</td>\n",
              "      <td>Y</td>\n",
              "    </tr>\n",
              "    <tr>\n",
              "      <th>1</th>\n",
              "      <td>LP001003</td>\n",
              "      <td>Male</td>\n",
              "      <td>Yes</td>\n",
              "      <td>1</td>\n",
              "      <td>Graduate</td>\n",
              "      <td>No</td>\n",
              "      <td>4583</td>\n",
              "      <td>1508.0</td>\n",
              "      <td>128.0</td>\n",
              "      <td>360.0</td>\n",
              "      <td>1.0</td>\n",
              "      <td>Rural</td>\n",
              "      <td>N</td>\n",
              "    </tr>\n",
              "    <tr>\n",
              "      <th>2</th>\n",
              "      <td>LP001005</td>\n",
              "      <td>Male</td>\n",
              "      <td>Yes</td>\n",
              "      <td>0</td>\n",
              "      <td>Graduate</td>\n",
              "      <td>Yes</td>\n",
              "      <td>3000</td>\n",
              "      <td>0.0</td>\n",
              "      <td>66.0</td>\n",
              "      <td>360.0</td>\n",
              "      <td>1.0</td>\n",
              "      <td>Urban</td>\n",
              "      <td>Y</td>\n",
              "    </tr>\n",
              "    <tr>\n",
              "      <th>4</th>\n",
              "      <td>LP001008</td>\n",
              "      <td>Male</td>\n",
              "      <td>No</td>\n",
              "      <td>0</td>\n",
              "      <td>Graduate</td>\n",
              "      <td>No</td>\n",
              "      <td>6000</td>\n",
              "      <td>0.0</td>\n",
              "      <td>141.0</td>\n",
              "      <td>360.0</td>\n",
              "      <td>1.0</td>\n",
              "      <td>Urban</td>\n",
              "      <td>Y</td>\n",
              "    </tr>\n",
              "    <tr>\n",
              "      <th>5</th>\n",
              "      <td>LP001011</td>\n",
              "      <td>Male</td>\n",
              "      <td>Yes</td>\n",
              "      <td>2</td>\n",
              "      <td>Graduate</td>\n",
              "      <td>Yes</td>\n",
              "      <td>5417</td>\n",
              "      <td>4196.0</td>\n",
              "      <td>267.0</td>\n",
              "      <td>360.0</td>\n",
              "      <td>1.0</td>\n",
              "      <td>Urban</td>\n",
              "      <td>Y</td>\n",
              "    </tr>\n",
              "    <tr>\n",
              "      <th>...</th>\n",
              "      <td>...</td>\n",
              "      <td>...</td>\n",
              "      <td>...</td>\n",
              "      <td>...</td>\n",
              "      <td>...</td>\n",
              "      <td>...</td>\n",
              "      <td>...</td>\n",
              "      <td>...</td>\n",
              "      <td>...</td>\n",
              "      <td>...</td>\n",
              "      <td>...</td>\n",
              "      <td>...</td>\n",
              "      <td>...</td>\n",
              "    </tr>\n",
              "    <tr>\n",
              "      <th>595</th>\n",
              "      <td>LP002978</td>\n",
              "      <td>Female</td>\n",
              "      <td>No</td>\n",
              "      <td>0</td>\n",
              "      <td>Graduate</td>\n",
              "      <td>No</td>\n",
              "      <td>2900</td>\n",
              "      <td>0.0</td>\n",
              "      <td>71.0</td>\n",
              "      <td>360.0</td>\n",
              "      <td>1.0</td>\n",
              "      <td>Rural</td>\n",
              "      <td>Y</td>\n",
              "    </tr>\n",
              "    <tr>\n",
              "      <th>596</th>\n",
              "      <td>LP002979</td>\n",
              "      <td>Male</td>\n",
              "      <td>Yes</td>\n",
              "      <td>3+</td>\n",
              "      <td>Graduate</td>\n",
              "      <td>No</td>\n",
              "      <td>4106</td>\n",
              "      <td>0.0</td>\n",
              "      <td>40.0</td>\n",
              "      <td>180.0</td>\n",
              "      <td>1.0</td>\n",
              "      <td>Rural</td>\n",
              "      <td>Y</td>\n",
              "    </tr>\n",
              "    <tr>\n",
              "      <th>597</th>\n",
              "      <td>LP002983</td>\n",
              "      <td>Male</td>\n",
              "      <td>Yes</td>\n",
              "      <td>1</td>\n",
              "      <td>Graduate</td>\n",
              "      <td>No</td>\n",
              "      <td>8072</td>\n",
              "      <td>240.0</td>\n",
              "      <td>253.0</td>\n",
              "      <td>360.0</td>\n",
              "      <td>1.0</td>\n",
              "      <td>Urban</td>\n",
              "      <td>Y</td>\n",
              "    </tr>\n",
              "    <tr>\n",
              "      <th>598</th>\n",
              "      <td>LP002984</td>\n",
              "      <td>Male</td>\n",
              "      <td>Yes</td>\n",
              "      <td>2</td>\n",
              "      <td>Graduate</td>\n",
              "      <td>No</td>\n",
              "      <td>7583</td>\n",
              "      <td>0.0</td>\n",
              "      <td>187.0</td>\n",
              "      <td>360.0</td>\n",
              "      <td>1.0</td>\n",
              "      <td>Urban</td>\n",
              "      <td>Y</td>\n",
              "    </tr>\n",
              "    <tr>\n",
              "      <th>599</th>\n",
              "      <td>LP002990</td>\n",
              "      <td>Female</td>\n",
              "      <td>No</td>\n",
              "      <td>0</td>\n",
              "      <td>Graduate</td>\n",
              "      <td>Yes</td>\n",
              "      <td>4583</td>\n",
              "      <td>0.0</td>\n",
              "      <td>133.0</td>\n",
              "      <td>360.0</td>\n",
              "      <td>0.0</td>\n",
              "      <td>Semiurban</td>\n",
              "      <td>N</td>\n",
              "    </tr>\n",
              "  </tbody>\n",
              "</table>\n",
              "<p>466 rows × 13 columns</p>\n",
              "</div>"
            ],
            "text/plain": [
              "      Loan_ID  Gender Married  ... Credit_History Property_Area Loan_Status\n",
              "0    LP001002    Male      No  ...            1.0         Urban           Y\n",
              "1    LP001003    Male     Yes  ...            1.0         Rural           N\n",
              "2    LP001005    Male     Yes  ...            1.0         Urban           Y\n",
              "4    LP001008    Male      No  ...            1.0         Urban           Y\n",
              "5    LP001011    Male     Yes  ...            1.0         Urban           Y\n",
              "..        ...     ...     ...  ...            ...           ...         ...\n",
              "595  LP002978  Female      No  ...            1.0         Rural           Y\n",
              "596  LP002979    Male     Yes  ...            1.0         Rural           Y\n",
              "597  LP002983    Male     Yes  ...            1.0         Urban           Y\n",
              "598  LP002984    Male     Yes  ...            1.0         Urban           Y\n",
              "599  LP002990  Female      No  ...            0.0     Semiurban           N\n",
              "\n",
              "[466 rows x 13 columns]"
            ]
          },
          "metadata": {
            "tags": []
          },
          "execution_count": 79
        }
      ]
    },
    {
      "cell_type": "code",
      "metadata": {
        "id": "W9GvdEE35kGJ",
        "colab_type": "code",
        "colab": {}
      },
      "source": [
        "not_graduate = data[data['Education'] == 'Not Graduate']"
      ],
      "execution_count": 80,
      "outputs": []
    },
    {
      "cell_type": "code",
      "metadata": {
        "id": "h85RK5-d5u8r",
        "colab_type": "code",
        "colab": {
          "base_uri": "https://localhost:8080/",
          "height": 268
        },
        "outputId": "3ce9717f-ab4e-472d-a6d2-e420dcf5f618"
      },
      "source": [
        "graduate['LoanAmount'].plot(kind='density', label='Graduate')\n",
        "#Plotting density plot for 'Graduate'\n",
        "not_graduate['LoanAmount'].plot(kind='density',label='Not Graduate')\n",
        "#For automatic legend display\n",
        "plt.legend()\n",
        "plt.show()"
      ],
      "execution_count": 83,
      "outputs": [
        {
          "output_type": "display_data",
          "data": {
            "image/png": "[encoded data removed]",
            "text/plain": [
              "<Figure size 432x288 with 1 Axes>"
            ]
          },
          "metadata": {
            "tags": []
          }
        }
      ]
    },
    {
      "cell_type": "markdown",
      "metadata": {
        "id": "oMcWesSUU1SD",
        "colab_type": "text"
      },
      "source": [
        "# Income vs Loan\n",
        "\n",
        "For any financial institution to be successful in its loan lending system, there has to be a correlation between the borrower's income and loan amount he is lent. Let's see how our company fares in that respect:\n",
        "\n",
        "## Instructions :\n",
        "\n",
        "* Create three subplots  with `(nrows = 3 , ncols = 1)` and store it in variable's `fig ,(ax_1,ax_2,ax_3)`\n",
        "\n",
        "* Since both are continuous variables, plot scatter plot between `'ApplicantIncome'` and `LoanAmount` using `ax_1`. Set axis title as `Applicant Income`\n",
        "\n",
        "\n",
        "* Plot scatter plot between `'CoapplicantIncome'` and `LoanAmount` using `ax_2`. Set axis title as `Coapplicant Income` \n",
        "\n",
        "\n",
        "* Create a new column in the dataframe called `'TotalIncome'` which is a sum of the values of columns `ApplicantIncome` and `CoapplicantIncome`\n",
        "\n",
        "\n",
        "* Plot scatter plot between `'TotalIncome'` and `LoanAmount` using `ax_3`. Set axis title as `Total Income` \n",
        "\n",
        " \n",
        "\n",
        "#### Things to ponder upon\n",
        "    - Is there a correlation between 'ApplicantIncome' and 'LoanAmount'?(One way to know that is looking at the line formed when you connect the scatter plot dots?)\n",
        "    \n",
        "    - Is the 'TotalIncome' better related to the 'LoanAmount' than 'ApplicantIncome'?\n",
        "\n"
      ]
    },
    {
      "cell_type": "code",
      "metadata": {
        "id": "a0LQ08sBU1SE",
        "colab_type": "code",
        "colab": {
          "base_uri": "https://localhost:8080/",
          "height": 427
        },
        "outputId": "f9ef2c82-cf67-4c32-8e49-9c3580af8cca"
      },
      "source": [
        "fig, (ax_1, ax_2,ax_3) = plt.subplots(1,3, figsize=(20,8))\n",
        "#Plotting scatter plot\n",
        "ax_1.scatter(data['ApplicantIncome'],data[\"LoanAmount\"])\n",
        "\n",
        "#Setting the subplot axis title\n",
        "ax_1.set(title='Applicant Income')\n",
        "\n",
        "ax_2.scatter(data['CoapplicantIncome'],data['LoanAmount'])\n",
        "#Setting the subplot axis title\n",
        "ax_2.set(title='Coapplicant Income')\n",
        "\n",
        "data['TotalIncome'] = data['ApplicantIncome'] + data['CoapplicantIncome']\n",
        "ax_3.scatter(data['TotalIncome'],data[\"LoanAmount\"])\n",
        "#Setting the subplot axis title\n",
        "ax_3.set(title='Total Income')"
      ],
      "execution_count": 86,
      "outputs": [
        {
          "output_type": "execute_result",
          "data": {
            "text/plain": [
              "[Text(0.5, 1.0, 'Total Income')]"
            ]
          },
          "metadata": {
            "tags": []
          },
          "execution_count": 86
        },
        {
          "output_type": "display_data",
          "data": {
            "image/png": "[encoded data removed]",
            "text/plain": [
              "<Figure size 1440x576 with 3 Axes>"
            ]
          },
          "metadata": {
            "tags": []
          }
        }
      ]
    },
    {
      "cell_type": "code",
      "metadata": {
        "id": "ihB1eVdV8pT3",
        "colab_type": "code",
        "colab": {}
      },
      "source": [
        ""
      ],
      "execution_count": null,
      "outputs": []
    }
  ]
}